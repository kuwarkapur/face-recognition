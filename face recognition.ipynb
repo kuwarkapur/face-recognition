{
 "cells": [
  {
   "cell_type": "code",
   "execution_count": null,
   "metadata": {},
   "outputs": [],
   "source": [
    "import os\n",
    "import cv2\n",
    "import numpy as np\n",
    "name=[]\n",
    "class_id=0\n",
    "labels=[]\n",
    "file=\"C:/Users/Kuwar/photo array/\"\n",
    "for f in os.listdir(file):\n",
    "    if f.endswith('.npy'):\n",
    "        name.append(f[:-4])\n",
    "        data_item = np.load(file + f)\n",
    "        \n",
    "print(len(name))      "
   ]
  },
  {
   "cell_type": "code",
   "execution_count": null,
   "metadata": {},
   "outputs": [],
   "source": [
    "print(name)\n",
    "for f in os.listdir(file):\n",
    "    target = class_id * np.ones((data_item.shape[0],))\n",
    "    class_id += 1\n",
    "    print(target.shape)\n",
    "    labels.append(target)\n",
    "        \n",
    "print(len(labels)) "
   ]
  },
  {
   "cell_type": "code",
   "execution_count": null,
   "metadata": {},
   "outputs": [],
   "source": [
    "label=np.array(labels).reshape(data_item.shape[0],len(name))\n",
    "label.shape\n",
    "print(label)"
   ]
  },
  {
   "cell_type": "code",
   "execution_count": null,
   "metadata": {},
   "outputs": [],
   "source": [
    "from sklearn.neighbors import KNeighborsRegressor"
   ]
  },
  {
   "cell_type": "code",
   "execution_count": null,
   "metadata": {},
   "outputs": [],
   "source": [
    "print(data_item.shape[0])\n",
    "X,Y=[data_item,label]\n",
    "X.shape\n",
    "print(Y.shape)"
   ]
  },
  {
   "cell_type": "code",
   "execution_count": null,
   "metadata": {},
   "outputs": [],
   "source": [
    "from sklearn.cluster import KMeans\n",
    "#face_selection=np.ones(1,1)\n",
    "im=cv2.VideoCapture(0)\n",
    "haar = cv2.CascadeClassifier('D:\\haarcascade_frontalface_default.xml')\n",
    "while(True):\n",
    "    ret,img=im.read()        \n",
    "    #gray = cv2.cvtColor(img, cv2.COLOR_BGR2GRAY)\n",
    "    faces = haar.detectMultiScale(img, 1.3, 5)\n",
    "    for face in faces:\n",
    "        x, y, w, h = face\n",
    "        rect=cv2.rectangle(img,(x,y),(x+w,y+h),(0,255,0),2)\n",
    "        face_selection = cv2.resize(rect, (500, 500))\n",
    "        cv2.imshow('frame',face_selection)\n",
    "        if cv2.waitKey(1) & 0xFF == ord('q'):\n",
    "            break\n",
    "    break\n",
    "    \n",
    "#for i in 10:\n",
    "neigh = KNeighborsRegressor(n_neighbors=5)           # if we take n_neighbors= 2 (than it give 98% accuracy) & 1 (than it give 100% accuracy)\n",
    "neigh.fit(X,Y)\n",
    "predict_KNN=neigh.predict(face_selection.reshape(data_item.shape[0],3*data_item.shape[0]))\n",
    "print(predict_KNN.round())\n",
    "[araay,label]=(np.unique(predict_KNN.round(),return_counts=True))\n",
    "#face_selction=np.zeros(data_item.shape[0],3*data_item.shape[0])"
   ]
  },
  {
   "cell_type": "code",
   "execution_count": null,
   "metadata": {},
   "outputs": [],
   "source": [
    "araay,label\n",
    "dicto=dict(zip(araay,label))\n",
    "dicto"
   ]
  },
  {
   "cell_type": "code",
   "execution_count": null,
   "metadata": {},
   "outputs": [],
   "source": [
    "maxim=label.max()\n",
    "print(maxim)"
   ]
  },
  {
   "cell_type": "code",
   "execution_count": null,
   "metadata": {},
   "outputs": [],
   "source": [
    "def show(j):\n",
    "    while(True): \n",
    "        for  (x, y, w, h) in faces[:]:\n",
    "            cv2.putText(img,name[j],(x+10,y+10),4,1,250,4)\n",
    "            cv2.rectangle(img,(x,y),(x+w,y+h),(255,0,0),2)\n",
    "        for  (x, y, w, h) in faces[:]:\n",
    "            cv2.imshow('frame',img)\n",
    "            if cv2.waitKey(42) & 0xFF == ord('q'):\n",
    "                break\n",
    "     \n",
    "       "
   ]
  },
  {
   "cell_type": "code",
   "execution_count": null,
   "metadata": {},
   "outputs": [],
   "source": [
    "for i in range(len(name)):\n",
    "    if i in dicto:\n",
    "        if dicto[i]==maxim:\n",
    "            show(i)\n",
    "    else:\n",
    "        print('invalid')\n"
   ]
  },
  {
   "cell_type": "code",
   "execution_count": null,
   "metadata": {},
   "outputs": [],
   "source": []
  }
 ],
 "metadata": {
  "kernelspec": {
   "display_name": "Python 3",
   "language": "python",
   "name": "python3"
  },
  "language_info": {
   "codemirror_mode": {
    "name": "ipython",
    "version": 3
   },
   "file_extension": ".py",
   "mimetype": "text/x-python",
   "name": "python",
   "nbconvert_exporter": "python",
   "pygments_lexer": "ipython3",
   "version": "3.8.3"
  }
 },
 "nbformat": 4,
 "nbformat_minor": 4
}
